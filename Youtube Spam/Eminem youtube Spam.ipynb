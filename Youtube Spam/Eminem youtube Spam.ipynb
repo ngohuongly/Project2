{
 "cells": [
  {
   "cell_type": "code",
   "execution_count": 212,
   "metadata": {},
   "outputs": [],
   "source": [
    "import pandas as pd"
   ]
  },
  {
   "cell_type": "code",
   "execution_count": 213,
   "metadata": {},
   "outputs": [],
   "source": [
    "import numpy as np\n"
   ]
  },
  {
   "cell_type": "code",
   "execution_count": 214,
   "metadata": {},
   "outputs": [
    {
     "name": "stdout",
     "output_type": "stream",
     "text": [
      "Collecting package metadata (current_repodata.json): done\n",
      "Solving environment: done\n",
      "\n",
      "## Package Plan ##\n",
      "\n",
      "  environment location: /Users/RobMullaney/opt/anaconda3\n",
      "\n",
      "  added / updated specs:\n",
      "    - gensim\n",
      "\n",
      "\n",
      "The following packages will be UPDATED:\n",
      "\n",
      "  conda              conda-forge::conda-4.10.1-py38h50d173~ --> pkgs/main::conda-4.10.1-py38hecd8cb5_1\n",
      "\n",
      "The following packages will be SUPERSEDED by a higher-priority channel:\n",
      "\n",
      "  ca-certificates    conda-forge::ca-certificates-2020.12.~ --> anaconda::ca-certificates-2020.10.14-0\n",
      "  certifi            conda-forge::certifi-2020.12.5-py38h5~ --> anaconda::certifi-2020.6.20-py38_0\n",
      "\n",
      "\n",
      "Preparing transaction: done\n",
      "Verifying transaction: done\n",
      "Executing transaction: done\n",
      "\n",
      "Note: you may need to restart the kernel to use updated packages.\n"
     ]
    }
   ],
   "source": [
    "conda install -c anaconda gensim"
   ]
  },
  {
   "cell_type": "code",
   "execution_count": 215,
   "metadata": {
    "scrolled": true
   },
   "outputs": [
    {
     "name": "stdout",
     "output_type": "stream",
     "text": [
      "frozenset({'anyone', 'thence', 'first', 'go', 'or', 'yourselves', 'used', 'becomes', 'has', 'together', 'here', 'regarding', 'made', 'via', 'have', 'her', 'whereupon', 'your', 'nobody', 'others', 'never', 'former', 'move', 'through', 'namely', 'should', 'them', 'even', 'therefore', 'except', 'own', 'sometimes', 'be', 'eg', 'wherein', 'their', 'me', 'before', 'call', 'mill', 'every', 'under', 'eleven', 'none', 'which', 'too', 'less', 'no', 'now', 'yours', 'all', 'hence', 'myself', 'they', 'are', 'is', 'without', 'de', 'him', 'full', 'there', 'ever', 'using', 'co', 'anyhow', 'whence', 'with', 'who', 'one', 'please', 'various', 'unless', 'seem', 'off', 'against', 'con', 'along', 'indeed', 'bottom', 'least', 'she', 'few', 'whether', 'whenever', 'often', 'on', 'six', 'herein', 'seemed', 'whole', 'besides', 'down', 'much', 'herself', 'these', 'nor', 're', 'it', 'describe', 'noone', 'computer', 'side', 'both', 'behind', 'meanwhile', 'say', 'hasnt', 'amount', 'more', 'make', 'hereby', 'you', 'another', 'although', 'doesn', 'ltd', 'whereas', 'did', 'by', 'due', 'system', 'towards', 'really', 'would', 'why', 'front', 'serious', 'whom', 'three', 'across', 'though', 'keep', 'as', 'km', 'interest', 'what', 'beside', 'put', 'either', 'and', 'fifteen', 'latterly', 'over', 'above', 'fire', 'an', 'any', 'show', 'nothing', 'thus', 'he', 'very', 'see', 'after', 'already', 'throughout', 'formerly', 'somewhere', 'empty', 'must', 'to', 'those', 'so', 'not', 'done', 'same', 'ours', 'whoever', 'out', 'beforehand', 'don', 'being', 'enough', 'something', 'but', 'twelve', 'only', 'third', 'thereupon', 'whereby', 'nine', 'everywhere', 'from', 'thin', 'i', 'quite', 'whereafter', 'just', 'its', 'beyond', 'still', 'alone', 'themselves', 'whose', 'around', 'kg', 'everything', 'ten', 'does', 'thereafter', 'thereby', 'per', 'hers', 'thick', 'rather', 'into', 'his', 'fifty', 'otherwise', 'anything', 'in', 'therein', 'become', 'between', 'became', 'mine', 'fill', 'also', 'how', 'cry', 'below', 'take', 'whatever', 'get', 'since', 'among', 'within', 'anywhere', 'this', 'the', 'yourself', 'amoungst', 'doing', 'inc', 'some', 'well', 'again', 'elsewhere', 'had', 'hereupon', 'ie', 'wherever', 'yet', 'two', 'was', 'forty', 'do', 'cannot', 'my', 'bill', 'will', 'latter', 'detail', 'mostly', 'for', 'afterwards', 'nowhere', 'somehow', 'a', 'when', 'other', 'part', 'name', 'four', 'anyway', 'because', 'else', 'been', 'might', 'didn', 'almost', 'etc', 'someone', 'we', 'perhaps', 'everyone', 'moreover', 'sincere', 'most', 'can', 'un', 'could', 'each', 'sometime', 'always', 'further', 'find', 'itself', 'upon', 'once', 'hundred', 'several', 'our', 'becoming', 'up', 'where', 'back', 'ourselves', 'than', 'while', 'thru', 'were', 'whither', 'such', 'seems', 'neither', 'if', 'onto', 'hereafter', 'top', 'last', 'that', 'may', 'five', 'about', 'sixty', 'eight', 'next', 'during', 'seeming', 'of', 'found', 'many', 'nevertheless', 'toward', 'until', 'give', 'twenty', 'however', 'at', 'am', 'himself', 'couldnt', 'amongst', 'then', 'cant', 'us'})\n"
     ]
    }
   ],
   "source": [
    "from gensim.parsing.preprocessing import remove_stopwords, STOPWORDS\n",
    "print(STOPWORDS)"
   ]
  },
  {
   "cell_type": "code",
   "execution_count": 216,
   "metadata": {},
   "outputs": [
    {
     "data": {
      "text/html": [
       "<div>\n",
       "<style scoped>\n",
       "    .dataframe tbody tr th:only-of-type {\n",
       "        vertical-align: middle;\n",
       "    }\n",
       "\n",
       "    .dataframe tbody tr th {\n",
       "        vertical-align: top;\n",
       "    }\n",
       "\n",
       "    .dataframe thead th {\n",
       "        text-align: right;\n",
       "    }\n",
       "</style>\n",
       "<table border=\"1\" class=\"dataframe\">\n",
       "  <thead>\n",
       "    <tr style=\"text-align: right;\">\n",
       "      <th></th>\n",
       "      <th>COMMENT_ID</th>\n",
       "      <th>AUTHOR</th>\n",
       "      <th>DATE</th>\n",
       "      <th>CONTENT</th>\n",
       "      <th>CLASS</th>\n",
       "    </tr>\n",
       "  </thead>\n",
       "  <tbody>\n",
       "    <tr>\n",
       "      <th>0</th>\n",
       "      <td>z12rwfnyyrbsefonb232i5ehdxzkjzjs2</td>\n",
       "      <td>Lisa Wellas</td>\n",
       "      <td>NaN</td>\n",
       "      <td>+447935454150 lovely girl talk to me xxx﻿</td>\n",
       "      <td>1</td>\n",
       "    </tr>\n",
       "    <tr>\n",
       "      <th>1</th>\n",
       "      <td>z130wpnwwnyuetxcn23xf5k5ynmkdpjrj04</td>\n",
       "      <td>jason graham</td>\n",
       "      <td>2015-05-29T02:26:10.652000</td>\n",
       "      <td>I always end up coming back to this song&lt;br /&gt;﻿</td>\n",
       "      <td>0</td>\n",
       "    </tr>\n",
       "    <tr>\n",
       "      <th>2</th>\n",
       "      <td>z13vsfqirtavjvu0t22ezrgzyorwxhpf3</td>\n",
       "      <td>Ajkal Khan</td>\n",
       "      <td>NaN</td>\n",
       "      <td>my sister just received over 6,500 new &lt;a rel=...</td>\n",
       "      <td>1</td>\n",
       "    </tr>\n",
       "    <tr>\n",
       "      <th>3</th>\n",
       "      <td>z12wjzc4eprnvja4304cgbbizuved35wxcs</td>\n",
       "      <td>Dakota Taylor</td>\n",
       "      <td>2015-05-29T02:13:07.810000</td>\n",
       "      <td>Cool﻿</td>\n",
       "      <td>0</td>\n",
       "    </tr>\n",
       "    <tr>\n",
       "      <th>4</th>\n",
       "      <td>z13xjfr42z3uxdz2223gx5rrzs3dt5hna</td>\n",
       "      <td>Jihad Naser</td>\n",
       "      <td>NaN</td>\n",
       "      <td>Hello I&amp;#39;am from Palastine﻿</td>\n",
       "      <td>1</td>\n",
       "    </tr>\n",
       "    <tr>\n",
       "      <th>...</th>\n",
       "      <td>...</td>\n",
       "      <td>...</td>\n",
       "      <td>...</td>\n",
       "      <td>...</td>\n",
       "      <td>...</td>\n",
       "    </tr>\n",
       "    <tr>\n",
       "      <th>443</th>\n",
       "      <td>LneaDw26bFu3RCmyrWyP9S6wh1h9dBv3X95g1HzKAb4</td>\n",
       "      <td>Dany PK</td>\n",
       "      <td>NaN</td>\n",
       "      <td>SUBSCRIBE TO MY CHANNEL X PLEASE!. SPARE</td>\n",
       "      <td>1</td>\n",
       "    </tr>\n",
       "    <tr>\n",
       "      <th>444</th>\n",
       "      <td>LneaDw26bFsD65dtIvAEObWYIYnFTqQDKBek_Ypz3J8</td>\n",
       "      <td>SmexyFriedChicken</td>\n",
       "      <td>NaN</td>\n",
       "      <td>Check out my videos guy! :) Hope you guys had ...</td>\n",
       "      <td>1</td>\n",
       "    </tr>\n",
       "    <tr>\n",
       "      <th>445</th>\n",
       "      <td>LneaDw26bFuvs-8oWkLpAFa6g3QHpWD8k7sbbMP3Bg8</td>\n",
       "      <td>The Guy That's Done Everything</td>\n",
       "      <td>NaN</td>\n",
       "      <td>3 yrs ago I had a health scare but thankfully ...</td>\n",
       "      <td>1</td>\n",
       "    </tr>\n",
       "    <tr>\n",
       "      <th>446</th>\n",
       "      <td>z12hfp2wmyuqztkw504cgblyxtbsxjuzeow0k</td>\n",
       "      <td>Jesse Pinkman</td>\n",
       "      <td>2015-05-06T11:42:44.601000</td>\n",
       "      <td>Rihanna looks so beautiful with red hair ;)﻿</td>\n",
       "      <td>0</td>\n",
       "    </tr>\n",
       "    <tr>\n",
       "      <th>447</th>\n",
       "      <td>z13tsbc5vvn0hdozz04chjt51lq1cvris0k</td>\n",
       "      <td>Gaming Gaming</td>\n",
       "      <td>2015-05-06T10:56:35.972000</td>\n",
       "      <td>857.482.940 views AWESOME !!!!!!!!!!!!!!!!!!!!...</td>\n",
       "      <td>0</td>\n",
       "    </tr>\n",
       "  </tbody>\n",
       "</table>\n",
       "<p>448 rows × 5 columns</p>\n",
       "</div>"
      ],
      "text/plain": [
       "                                      COMMENT_ID  \\\n",
       "0              z12rwfnyyrbsefonb232i5ehdxzkjzjs2   \n",
       "1            z130wpnwwnyuetxcn23xf5k5ynmkdpjrj04   \n",
       "2              z13vsfqirtavjvu0t22ezrgzyorwxhpf3   \n",
       "3            z12wjzc4eprnvja4304cgbbizuved35wxcs   \n",
       "4              z13xjfr42z3uxdz2223gx5rrzs3dt5hna   \n",
       "..                                           ...   \n",
       "443  LneaDw26bFu3RCmyrWyP9S6wh1h9dBv3X95g1HzKAb4   \n",
       "444  LneaDw26bFsD65dtIvAEObWYIYnFTqQDKBek_Ypz3J8   \n",
       "445  LneaDw26bFuvs-8oWkLpAFa6g3QHpWD8k7sbbMP3Bg8   \n",
       "446        z12hfp2wmyuqztkw504cgblyxtbsxjuzeow0k   \n",
       "447          z13tsbc5vvn0hdozz04chjt51lq1cvris0k   \n",
       "\n",
       "                             AUTHOR                        DATE  \\\n",
       "0                       Lisa Wellas                         NaN   \n",
       "1                      jason graham  2015-05-29T02:26:10.652000   \n",
       "2                        Ajkal Khan                         NaN   \n",
       "3                     Dakota Taylor  2015-05-29T02:13:07.810000   \n",
       "4                       Jihad Naser                         NaN   \n",
       "..                              ...                         ...   \n",
       "443                         Dany PK                         NaN   \n",
       "444               SmexyFriedChicken                         NaN   \n",
       "445  The Guy That's Done Everything                         NaN   \n",
       "446                   Jesse Pinkman  2015-05-06T11:42:44.601000   \n",
       "447                   Gaming Gaming  2015-05-06T10:56:35.972000   \n",
       "\n",
       "                                               CONTENT  CLASS  \n",
       "0            +447935454150 lovely girl talk to me xxx﻿      1  \n",
       "1      I always end up coming back to this song<br />﻿      0  \n",
       "2    my sister just received over 6,500 new <a rel=...      1  \n",
       "3                                                Cool﻿      0  \n",
       "4                       Hello I&#39;am from Palastine﻿      1  \n",
       "..                                                 ...    ...  \n",
       "443           SUBSCRIBE TO MY CHANNEL X PLEASE!. SPARE      1  \n",
       "444  Check out my videos guy! :) Hope you guys had ...      1  \n",
       "445  3 yrs ago I had a health scare but thankfully ...      1  \n",
       "446       Rihanna looks so beautiful with red hair ;)﻿      0  \n",
       "447  857.482.940 views AWESOME !!!!!!!!!!!!!!!!!!!!...      0  \n",
       "\n",
       "[448 rows x 5 columns]"
      ]
     },
     "execution_count": 216,
     "metadata": {},
     "output_type": "execute_result"
    }
   ],
   "source": [
    "eminem=pd.read_csv('Youtube04-Eminem.csv')\n",
    "eminem"
   ]
  },
  {
   "cell_type": "code",
   "execution_count": 217,
   "metadata": {},
   "outputs": [
    {
     "data": {
      "text/html": [
       "<div>\n",
       "<style scoped>\n",
       "    .dataframe tbody tr th:only-of-type {\n",
       "        vertical-align: middle;\n",
       "    }\n",
       "\n",
       "    .dataframe tbody tr th {\n",
       "        vertical-align: top;\n",
       "    }\n",
       "\n",
       "    .dataframe thead th {\n",
       "        text-align: right;\n",
       "    }\n",
       "</style>\n",
       "<table border=\"1\" class=\"dataframe\">\n",
       "  <thead>\n",
       "    <tr style=\"text-align: right;\">\n",
       "      <th></th>\n",
       "      <th>CONTENT</th>\n",
       "      <th>CLASS</th>\n",
       "    </tr>\n",
       "  </thead>\n",
       "  <tbody>\n",
       "    <tr>\n",
       "      <th>0</th>\n",
       "      <td>+447935454150 lovely girl talk to me xxx﻿</td>\n",
       "      <td>1</td>\n",
       "    </tr>\n",
       "    <tr>\n",
       "      <th>1</th>\n",
       "      <td>I always end up coming back to this song&lt;br /&gt;﻿</td>\n",
       "      <td>0</td>\n",
       "    </tr>\n",
       "    <tr>\n",
       "      <th>2</th>\n",
       "      <td>my sister just received over 6,500 new &lt;a rel=...</td>\n",
       "      <td>1</td>\n",
       "    </tr>\n",
       "    <tr>\n",
       "      <th>3</th>\n",
       "      <td>Cool﻿</td>\n",
       "      <td>0</td>\n",
       "    </tr>\n",
       "    <tr>\n",
       "      <th>4</th>\n",
       "      <td>Hello I&amp;#39;am from Palastine﻿</td>\n",
       "      <td>1</td>\n",
       "    </tr>\n",
       "    <tr>\n",
       "      <th>...</th>\n",
       "      <td>...</td>\n",
       "      <td>...</td>\n",
       "    </tr>\n",
       "    <tr>\n",
       "      <th>443</th>\n",
       "      <td>SUBSCRIBE TO MY CHANNEL X PLEASE!. SPARE</td>\n",
       "      <td>1</td>\n",
       "    </tr>\n",
       "    <tr>\n",
       "      <th>444</th>\n",
       "      <td>Check out my videos guy! :) Hope you guys had ...</td>\n",
       "      <td>1</td>\n",
       "    </tr>\n",
       "    <tr>\n",
       "      <th>445</th>\n",
       "      <td>3 yrs ago I had a health scare but thankfully ...</td>\n",
       "      <td>1</td>\n",
       "    </tr>\n",
       "    <tr>\n",
       "      <th>446</th>\n",
       "      <td>Rihanna looks so beautiful with red hair ;)﻿</td>\n",
       "      <td>0</td>\n",
       "    </tr>\n",
       "    <tr>\n",
       "      <th>447</th>\n",
       "      <td>857.482.940 views AWESOME !!!!!!!!!!!!!!!!!!!!...</td>\n",
       "      <td>0</td>\n",
       "    </tr>\n",
       "  </tbody>\n",
       "</table>\n",
       "<p>448 rows × 2 columns</p>\n",
       "</div>"
      ],
      "text/plain": [
       "                                               CONTENT  CLASS\n",
       "0            +447935454150 lovely girl talk to me xxx﻿      1\n",
       "1      I always end up coming back to this song<br />﻿      0\n",
       "2    my sister just received over 6,500 new <a rel=...      1\n",
       "3                                                Cool﻿      0\n",
       "4                       Hello I&#39;am from Palastine﻿      1\n",
       "..                                                 ...    ...\n",
       "443           SUBSCRIBE TO MY CHANNEL X PLEASE!. SPARE      1\n",
       "444  Check out my videos guy! :) Hope you guys had ...      1\n",
       "445  3 yrs ago I had a health scare but thankfully ...      1\n",
       "446       Rihanna looks so beautiful with red hair ;)﻿      0\n",
       "447  857.482.940 views AWESOME !!!!!!!!!!!!!!!!!!!!...      0\n",
       "\n",
       "[448 rows x 2 columns]"
      ]
     },
     "execution_count": 217,
     "metadata": {},
     "output_type": "execute_result"
    }
   ],
   "source": [
    "eminem_chosencolumn=eminem[['CONTENT','CLASS']]\n",
    "eminem_chosencolumn"
   ]
  },
  {
   "cell_type": "code",
   "execution_count": 218,
   "metadata": {},
   "outputs": [],
   "source": [
    "import re"
   ]
  },
  {
   "cell_type": "code",
   "execution_count": 219,
   "metadata": {},
   "outputs": [
    {
     "name": "stderr",
     "output_type": "stream",
     "text": [
      "<ipython-input-219-97ac80b2f0c5>:2: SettingWithCopyWarning: \n",
      "A value is trying to be set on a copy of a slice from a DataFrame.\n",
      "Try using .loc[row_indexer,col_indexer] = value instead\n",
      "\n",
      "See the caveats in the documentation: https://pandas.pydata.org/pandas-docs/stable/user_guide/indexing.html#returning-a-view-versus-a-copy\n",
      "  eminem_chosencolumn['CONTENT']=[re.sub(r'\\W',' ',str(x)) for x in eminem_chosencolumn['CONTENT']]\n"
     ]
    },
    {
     "data": {
      "text/html": [
       "<div>\n",
       "<style scoped>\n",
       "    .dataframe tbody tr th:only-of-type {\n",
       "        vertical-align: middle;\n",
       "    }\n",
       "\n",
       "    .dataframe tbody tr th {\n",
       "        vertical-align: top;\n",
       "    }\n",
       "\n",
       "    .dataframe thead th {\n",
       "        text-align: right;\n",
       "    }\n",
       "</style>\n",
       "<table border=\"1\" class=\"dataframe\">\n",
       "  <thead>\n",
       "    <tr style=\"text-align: right;\">\n",
       "      <th></th>\n",
       "      <th>CONTENT</th>\n",
       "      <th>CLASS</th>\n",
       "    </tr>\n",
       "  </thead>\n",
       "  <tbody>\n",
       "    <tr>\n",
       "      <th>0</th>\n",
       "      <td>447935454150 lovely girl talk to me xxx</td>\n",
       "      <td>1</td>\n",
       "    </tr>\n",
       "    <tr>\n",
       "      <th>1</th>\n",
       "      <td>I always end up coming back to this song br</td>\n",
       "      <td>0</td>\n",
       "    </tr>\n",
       "    <tr>\n",
       "      <th>2</th>\n",
       "      <td>my sister just received over 6 500 new  a rel ...</td>\n",
       "      <td>1</td>\n",
       "    </tr>\n",
       "    <tr>\n",
       "      <th>3</th>\n",
       "      <td>Cool</td>\n",
       "      <td>0</td>\n",
       "    </tr>\n",
       "    <tr>\n",
       "      <th>4</th>\n",
       "      <td>Hello I  39 am from Palastine</td>\n",
       "      <td>1</td>\n",
       "    </tr>\n",
       "    <tr>\n",
       "      <th>...</th>\n",
       "      <td>...</td>\n",
       "      <td>...</td>\n",
       "    </tr>\n",
       "    <tr>\n",
       "      <th>443</th>\n",
       "      <td>SUBSCRIBE TO MY CHANNEL X PLEASE   SPARE</td>\n",
       "      <td>1</td>\n",
       "    </tr>\n",
       "    <tr>\n",
       "      <th>444</th>\n",
       "      <td>Check out my videos guy     Hope you guys had ...</td>\n",
       "      <td>1</td>\n",
       "    </tr>\n",
       "    <tr>\n",
       "      <th>445</th>\n",
       "      <td>3 yrs ago I had a health scare but thankfully ...</td>\n",
       "      <td>1</td>\n",
       "    </tr>\n",
       "    <tr>\n",
       "      <th>446</th>\n",
       "      <td>Rihanna looks so beautiful with red hair</td>\n",
       "      <td>0</td>\n",
       "    </tr>\n",
       "    <tr>\n",
       "      <th>447</th>\n",
       "      <td>857 482 940 views AWESOME                     ...</td>\n",
       "      <td>0</td>\n",
       "    </tr>\n",
       "  </tbody>\n",
       "</table>\n",
       "<p>448 rows × 2 columns</p>\n",
       "</div>"
      ],
      "text/plain": [
       "                                               CONTENT  CLASS\n",
       "0             447935454150 lovely girl talk to me xxx       1\n",
       "1      I always end up coming back to this song br          0\n",
       "2    my sister just received over 6 500 new  a rel ...      1\n",
       "3                                                Cool       0\n",
       "4                       Hello I  39 am from Palastine       1\n",
       "..                                                 ...    ...\n",
       "443           SUBSCRIBE TO MY CHANNEL X PLEASE   SPARE      1\n",
       "444  Check out my videos guy     Hope you guys had ...      1\n",
       "445  3 yrs ago I had a health scare but thankfully ...      1\n",
       "446       Rihanna looks so beautiful with red hair          0\n",
       "447  857 482 940 views AWESOME                     ...      0\n",
       "\n",
       "[448 rows x 2 columns]"
      ]
     },
     "execution_count": 219,
     "metadata": {},
     "output_type": "execute_result"
    }
   ],
   "source": [
    "# remove the punctuation in the text\n",
    "eminem_chosencolumn['CONTENT']=[re.sub(r'\\W',' ',str(x)) for x in eminem_chosencolumn['CONTENT']]\n",
    "eminem_chosencolumn"
   ]
  },
  {
   "cell_type": "code",
   "execution_count": 220,
   "metadata": {},
   "outputs": [
    {
     "name": "stderr",
     "output_type": "stream",
     "text": [
      "<ipython-input-220-832addca8faf>:2: SettingWithCopyWarning: \n",
      "A value is trying to be set on a copy of a slice from a DataFrame.\n",
      "Try using .loc[row_indexer,col_indexer] = value instead\n",
      "\n",
      "See the caveats in the documentation: https://pandas.pydata.org/pandas-docs/stable/user_guide/indexing.html#returning-a-view-versus-a-copy\n",
      "  eminem_chosencolumn['CONTENT']=[re.sub(r'[0-9\\-]',' ',str(x)) for x in eminem_chosencolumn['CONTENT']]\n"
     ]
    },
    {
     "data": {
      "text/html": [
       "<div>\n",
       "<style scoped>\n",
       "    .dataframe tbody tr th:only-of-type {\n",
       "        vertical-align: middle;\n",
       "    }\n",
       "\n",
       "    .dataframe tbody tr th {\n",
       "        vertical-align: top;\n",
       "    }\n",
       "\n",
       "    .dataframe thead th {\n",
       "        text-align: right;\n",
       "    }\n",
       "</style>\n",
       "<table border=\"1\" class=\"dataframe\">\n",
       "  <thead>\n",
       "    <tr style=\"text-align: right;\">\n",
       "      <th></th>\n",
       "      <th>CONTENT</th>\n",
       "      <th>CLASS</th>\n",
       "    </tr>\n",
       "  </thead>\n",
       "  <tbody>\n",
       "    <tr>\n",
       "      <th>0</th>\n",
       "      <td>lovely girl talk to me xxx</td>\n",
       "      <td>1</td>\n",
       "    </tr>\n",
       "    <tr>\n",
       "      <th>1</th>\n",
       "      <td>I always end up coming back to this song br</td>\n",
       "      <td>0</td>\n",
       "    </tr>\n",
       "    <tr>\n",
       "      <th>2</th>\n",
       "      <td>my sister just received over       new  a rel ...</td>\n",
       "      <td>1</td>\n",
       "    </tr>\n",
       "    <tr>\n",
       "      <th>3</th>\n",
       "      <td>Cool</td>\n",
       "      <td>0</td>\n",
       "    </tr>\n",
       "    <tr>\n",
       "      <th>4</th>\n",
       "      <td>Hello I     am from Palastine</td>\n",
       "      <td>1</td>\n",
       "    </tr>\n",
       "    <tr>\n",
       "      <th>...</th>\n",
       "      <td>...</td>\n",
       "      <td>...</td>\n",
       "    </tr>\n",
       "    <tr>\n",
       "      <th>443</th>\n",
       "      <td>SUBSCRIBE TO MY CHANNEL X PLEASE   SPARE</td>\n",
       "      <td>1</td>\n",
       "    </tr>\n",
       "    <tr>\n",
       "      <th>444</th>\n",
       "      <td>Check out my videos guy     Hope you guys had ...</td>\n",
       "      <td>1</td>\n",
       "    </tr>\n",
       "    <tr>\n",
       "      <th>445</th>\n",
       "      <td>yrs ago I had a health scare but thankfully ...</td>\n",
       "      <td>1</td>\n",
       "    </tr>\n",
       "    <tr>\n",
       "      <th>446</th>\n",
       "      <td>Rihanna looks so beautiful with red hair</td>\n",
       "      <td>0</td>\n",
       "    </tr>\n",
       "    <tr>\n",
       "      <th>447</th>\n",
       "      <td>views AWESOME                     ...</td>\n",
       "      <td>0</td>\n",
       "    </tr>\n",
       "  </tbody>\n",
       "</table>\n",
       "<p>448 rows × 2 columns</p>\n",
       "</div>"
      ],
      "text/plain": [
       "                                               CONTENT  CLASS\n",
       "0                          lovely girl talk to me xxx       1\n",
       "1      I always end up coming back to this song br          0\n",
       "2    my sister just received over       new  a rel ...      1\n",
       "3                                                Cool       0\n",
       "4                       Hello I     am from Palastine       1\n",
       "..                                                 ...    ...\n",
       "443           SUBSCRIBE TO MY CHANNEL X PLEASE   SPARE      1\n",
       "444  Check out my videos guy     Hope you guys had ...      1\n",
       "445    yrs ago I had a health scare but thankfully ...      1\n",
       "446       Rihanna looks so beautiful with red hair          0\n",
       "447              views AWESOME                     ...      0\n",
       "\n",
       "[448 rows x 2 columns]"
      ]
     },
     "execution_count": 220,
     "metadata": {},
     "output_type": "execute_result"
    }
   ],
   "source": [
    "#Remove numbers in text\n",
    "eminem_chosencolumn['CONTENT']=[re.sub(r'[0-9\\-]',' ',str(x)) for x in eminem_chosencolumn['CONTENT']]\n",
    "eminem_chosencolumn"
   ]
  },
  {
   "cell_type": "code",
   "execution_count": 221,
   "metadata": {},
   "outputs": [
    {
     "name": "stderr",
     "output_type": "stream",
     "text": [
      "<ipython-input-221-6ccda211052d>:2: SettingWithCopyWarning: \n",
      "A value is trying to be set on a copy of a slice from a DataFrame.\n",
      "Try using .loc[row_indexer,col_indexer] = value instead\n",
      "\n",
      "See the caveats in the documentation: https://pandas.pydata.org/pandas-docs/stable/user_guide/indexing.html#returning-a-view-versus-a-copy\n",
      "  eminem_chosencolumn['CONTENT']=[re.sub(r'\\s+',' ',str(x)) for x in eminem_chosencolumn['CONTENT']]\n"
     ]
    },
    {
     "data": {
      "text/html": [
       "<div>\n",
       "<style scoped>\n",
       "    .dataframe tbody tr th:only-of-type {\n",
       "        vertical-align: middle;\n",
       "    }\n",
       "\n",
       "    .dataframe tbody tr th {\n",
       "        vertical-align: top;\n",
       "    }\n",
       "\n",
       "    .dataframe thead th {\n",
       "        text-align: right;\n",
       "    }\n",
       "</style>\n",
       "<table border=\"1\" class=\"dataframe\">\n",
       "  <thead>\n",
       "    <tr style=\"text-align: right;\">\n",
       "      <th></th>\n",
       "      <th>CONTENT</th>\n",
       "      <th>CLASS</th>\n",
       "    </tr>\n",
       "  </thead>\n",
       "  <tbody>\n",
       "    <tr>\n",
       "      <th>0</th>\n",
       "      <td>lovely girl talk to me xxx</td>\n",
       "      <td>1</td>\n",
       "    </tr>\n",
       "    <tr>\n",
       "      <th>1</th>\n",
       "      <td>I always end up coming back to this song br</td>\n",
       "      <td>0</td>\n",
       "    </tr>\n",
       "    <tr>\n",
       "      <th>2</th>\n",
       "      <td>my sister just received over new a rel nofollo...</td>\n",
       "      <td>1</td>\n",
       "    </tr>\n",
       "    <tr>\n",
       "      <th>3</th>\n",
       "      <td>Cool</td>\n",
       "      <td>0</td>\n",
       "    </tr>\n",
       "    <tr>\n",
       "      <th>4</th>\n",
       "      <td>Hello I am from Palastine</td>\n",
       "      <td>1</td>\n",
       "    </tr>\n",
       "    <tr>\n",
       "      <th>...</th>\n",
       "      <td>...</td>\n",
       "      <td>...</td>\n",
       "    </tr>\n",
       "    <tr>\n",
       "      <th>443</th>\n",
       "      <td>SUBSCRIBE TO MY CHANNEL X PLEASE SPARE</td>\n",
       "      <td>1</td>\n",
       "    </tr>\n",
       "    <tr>\n",
       "      <th>444</th>\n",
       "      <td>Check out my videos guy Hope you guys had a go...</td>\n",
       "      <td>1</td>\n",
       "    </tr>\n",
       "    <tr>\n",
       "      <th>445</th>\n",
       "      <td>yrs ago I had a health scare but thankfully I...</td>\n",
       "      <td>1</td>\n",
       "    </tr>\n",
       "    <tr>\n",
       "      <th>446</th>\n",
       "      <td>Rihanna looks so beautiful with red hair</td>\n",
       "      <td>0</td>\n",
       "    </tr>\n",
       "    <tr>\n",
       "      <th>447</th>\n",
       "      <td>views AWESOME</td>\n",
       "      <td>0</td>\n",
       "    </tr>\n",
       "  </tbody>\n",
       "</table>\n",
       "<p>448 rows × 2 columns</p>\n",
       "</div>"
      ],
      "text/plain": [
       "                                               CONTENT  CLASS\n",
       "0                          lovely girl talk to me xxx       1\n",
       "1         I always end up coming back to this song br       0\n",
       "2    my sister just received over new a rel nofollo...      1\n",
       "3                                                Cool       0\n",
       "4                           Hello I am from Palastine       1\n",
       "..                                                 ...    ...\n",
       "443             SUBSCRIBE TO MY CHANNEL X PLEASE SPARE      1\n",
       "444  Check out my videos guy Hope you guys had a go...      1\n",
       "445   yrs ago I had a health scare but thankfully I...      1\n",
       "446          Rihanna looks so beautiful with red hair       0\n",
       "447                                     views AWESOME       0\n",
       "\n",
       "[448 rows x 2 columns]"
      ]
     },
     "execution_count": 221,
     "metadata": {},
     "output_type": "execute_result"
    }
   ],
   "source": [
    "# remove white space in text \n",
    "eminem_chosencolumn['CONTENT']=[re.sub(r'\\s+',' ',str(x)) for x in eminem_chosencolumn['CONTENT']]\n",
    "eminem_chosencolumn"
   ]
  },
  {
   "cell_type": "code",
   "execution_count": 222,
   "metadata": {},
   "outputs": [
    {
     "name": "stderr",
     "output_type": "stream",
     "text": [
      "<ipython-input-222-786f17c9ab53>:2: SettingWithCopyWarning: \n",
      "A value is trying to be set on a copy of a slice from a DataFrame.\n",
      "Try using .loc[row_indexer,col_indexer] = value instead\n",
      "\n",
      "See the caveats in the documentation: https://pandas.pydata.org/pandas-docs/stable/user_guide/indexing.html#returning-a-view-versus-a-copy\n",
      "  eminem_chosencolumn['CONTENT']=eminem_chosencolumn['CONTENT'].str.lower()\n"
     ]
    },
    {
     "data": {
      "text/html": [
       "<div>\n",
       "<style scoped>\n",
       "    .dataframe tbody tr th:only-of-type {\n",
       "        vertical-align: middle;\n",
       "    }\n",
       "\n",
       "    .dataframe tbody tr th {\n",
       "        vertical-align: top;\n",
       "    }\n",
       "\n",
       "    .dataframe thead th {\n",
       "        text-align: right;\n",
       "    }\n",
       "</style>\n",
       "<table border=\"1\" class=\"dataframe\">\n",
       "  <thead>\n",
       "    <tr style=\"text-align: right;\">\n",
       "      <th></th>\n",
       "      <th>CONTENT</th>\n",
       "      <th>CLASS</th>\n",
       "    </tr>\n",
       "  </thead>\n",
       "  <tbody>\n",
       "    <tr>\n",
       "      <th>0</th>\n",
       "      <td>lovely girl talk to me xxx</td>\n",
       "      <td>1</td>\n",
       "    </tr>\n",
       "    <tr>\n",
       "      <th>1</th>\n",
       "      <td>i always end up coming back to this song br</td>\n",
       "      <td>0</td>\n",
       "    </tr>\n",
       "    <tr>\n",
       "      <th>2</th>\n",
       "      <td>my sister just received over new a rel nofollo...</td>\n",
       "      <td>1</td>\n",
       "    </tr>\n",
       "    <tr>\n",
       "      <th>3</th>\n",
       "      <td>cool</td>\n",
       "      <td>0</td>\n",
       "    </tr>\n",
       "    <tr>\n",
       "      <th>4</th>\n",
       "      <td>hello i am from palastine</td>\n",
       "      <td>1</td>\n",
       "    </tr>\n",
       "    <tr>\n",
       "      <th>...</th>\n",
       "      <td>...</td>\n",
       "      <td>...</td>\n",
       "    </tr>\n",
       "    <tr>\n",
       "      <th>443</th>\n",
       "      <td>subscribe to my channel x please spare</td>\n",
       "      <td>1</td>\n",
       "    </tr>\n",
       "    <tr>\n",
       "      <th>444</th>\n",
       "      <td>check out my videos guy hope you guys had a go...</td>\n",
       "      <td>1</td>\n",
       "    </tr>\n",
       "    <tr>\n",
       "      <th>445</th>\n",
       "      <td>yrs ago i had a health scare but thankfully i...</td>\n",
       "      <td>1</td>\n",
       "    </tr>\n",
       "    <tr>\n",
       "      <th>446</th>\n",
       "      <td>rihanna looks so beautiful with red hair</td>\n",
       "      <td>0</td>\n",
       "    </tr>\n",
       "    <tr>\n",
       "      <th>447</th>\n",
       "      <td>views awesome</td>\n",
       "      <td>0</td>\n",
       "    </tr>\n",
       "  </tbody>\n",
       "</table>\n",
       "<p>448 rows × 2 columns</p>\n",
       "</div>"
      ],
      "text/plain": [
       "                                               CONTENT  CLASS\n",
       "0                          lovely girl talk to me xxx       1\n",
       "1         i always end up coming back to this song br       0\n",
       "2    my sister just received over new a rel nofollo...      1\n",
       "3                                                cool       0\n",
       "4                           hello i am from palastine       1\n",
       "..                                                 ...    ...\n",
       "443             subscribe to my channel x please spare      1\n",
       "444  check out my videos guy hope you guys had a go...      1\n",
       "445   yrs ago i had a health scare but thankfully i...      1\n",
       "446          rihanna looks so beautiful with red hair       0\n",
       "447                                     views awesome       0\n",
       "\n",
       "[448 rows x 2 columns]"
      ]
     },
     "execution_count": 222,
     "metadata": {},
     "output_type": "execute_result"
    }
   ],
   "source": [
    "#Converting text to all lower case\n",
    "eminem_chosencolumn['CONTENT']=eminem_chosencolumn['CONTENT'].str.lower()\n",
    "eminem_chosencolumn"
   ]
  },
  {
   "cell_type": "code",
   "execution_count": 223,
   "metadata": {},
   "outputs": [],
   "source": [
    "#Removing stopwords\n",
    "#eminem_chosencolumn['processed_text'] = eminem_chosencolumn.apply(lambda row: remove_stopwords(row['CONTENT']), axis=1)\n",
    "#eminem_chosencolumn"
   ]
  },
  {
   "cell_type": "code",
   "execution_count": 224,
   "metadata": {},
   "outputs": [],
   "source": [
    "#using Tf-idf and then Random Forest\n",
    "from sklearn.model_selection import train_test_split\n",
    "from sklearn.feature_extraction.text import CountVectorizer\n",
    "from sklearn.feature_extraction.text import TfidfTransformer\n",
    "from sklearn.ensemble import RandomForestClassifier\n",
    "from sklearn.feature_extraction.text import TfidfVectorizer"
   ]
  },
  {
   "cell_type": "code",
   "execution_count": 225,
   "metadata": {},
   "outputs": [],
   "source": [
    "#Apply vetorizer to tokenize the text, learn the vocabulary and inverse document frequency weightings at the same time.\n",
    "#After this, the next step is to fit the model and transform. \n",
    "\n",
    "vectorizer = TfidfVectorizer()\n",
    "processed_features = vectorizer.fit_transform(eminem_chosencolumn['CONTENT']).toarray()"
   ]
  },
  {
   "cell_type": "code",
   "execution_count": 226,
   "metadata": {},
   "outputs": [],
   "source": [
    "X=processed_features\n",
    "y=eminem_chosencolumn[['CLASS']]\n",
    "X_train, X_test, y_train, y_test = train_test_split(X, y, test_size=0.3) "
   ]
  },
  {
   "cell_type": "code",
   "execution_count": 227,
   "metadata": {},
   "outputs": [],
   "source": [
    "#from sklearn.ensemble import RandomForestClassifier\n",
    "#clf=RandomForestClassifier()\n",
    "#clf.fit(X_train, y_train)\n",
    "#y_pred=clf.predict(X_test)"
   ]
  },
  {
   "cell_type": "code",
   "execution_count": 228,
   "metadata": {
    "scrolled": true
   },
   "outputs": [],
   "source": [
    "#from sklearn import metrics\n",
    "#print(\"Accuracy:\",metrics.accuracy_score(y_test, y_pred))"
   ]
  },
  {
   "cell_type": "markdown",
   "metadata": {},
   "source": [
    "# Multinomial Naive Bayes"
   ]
  },
  {
   "cell_type": "code",
   "execution_count": 229,
   "metadata": {},
   "outputs": [
    {
     "name": "stdout",
     "output_type": "stream",
     "text": [
      "Accuracy: 0.8740740740740741\n"
     ]
    },
    {
     "name": "stderr",
     "output_type": "stream",
     "text": [
      "/Users/RobMullaney/opt/anaconda3/lib/python3.8/site-packages/sklearn/utils/validation.py:72: DataConversionWarning: A column-vector y was passed when a 1d array was expected. Please change the shape of y to (n_samples, ), for example using ravel().\n",
      "  return f(**kwargs)\n"
     ]
    }
   ],
   "source": [
    "from sklearn.naive_bayes import MultinomialNB\n",
    "from sklearn import metrics\n",
    "nb = MultinomialNB(alpha=0.01)\n",
    "nb.fit(X_train,y_train)\n",
    "y_pred_NB=nb.predict(X_test)\n",
    "print(\"Accuracy:\",metrics.accuracy_score(y_test, y_pred_NB))"
   ]
  },
  {
   "cell_type": "code",
   "execution_count": 230,
   "metadata": {
    "scrolled": true
   },
   "outputs": [
    {
     "name": "stderr",
     "output_type": "stream",
     "text": [
      "<ipython-input-230-7910f09f9ddc>:2: SettingWithCopyWarning: \n",
      "A value is trying to be set on a copy of a slice from a DataFrame.\n",
      "Try using .loc[row_indexer,col_indexer] = value instead\n",
      "\n",
      "See the caveats in the documentation: https://pandas.pydata.org/pandas-docs/stable/user_guide/indexing.html#returning-a-view-versus-a-copy\n",
      "  Only_spam_class_NB['y_pred_NB']=y_pred_NB\n",
      "/Users/RobMullaney/opt/anaconda3/lib/python3.8/site-packages/pandas/core/frame.py:4438: SettingWithCopyWarning: \n",
      "A value is trying to be set on a copy of a slice from a DataFrame\n",
      "\n",
      "See the caveats in the documentation: https://pandas.pydata.org/pandas-docs/stable/user_guide/indexing.html#returning-a-view-versus-a-copy\n",
      "  return super().rename(\n"
     ]
    },
    {
     "data": {
      "text/html": [
       "<div>\n",
       "<style scoped>\n",
       "    .dataframe tbody tr th:only-of-type {\n",
       "        vertical-align: middle;\n",
       "    }\n",
       "\n",
       "    .dataframe tbody tr th {\n",
       "        vertical-align: top;\n",
       "    }\n",
       "\n",
       "    .dataframe thead th {\n",
       "        text-align: right;\n",
       "    }\n",
       "</style>\n",
       "<table border=\"1\" class=\"dataframe\">\n",
       "  <thead>\n",
       "    <tr style=\"text-align: right;\">\n",
       "      <th></th>\n",
       "      <th>y_test_NB</th>\n",
       "      <th>y_pred_NB</th>\n",
       "    </tr>\n",
       "  </thead>\n",
       "  <tbody>\n",
       "    <tr>\n",
       "      <th>114</th>\n",
       "      <td>1</td>\n",
       "      <td>1</td>\n",
       "    </tr>\n",
       "    <tr>\n",
       "      <th>182</th>\n",
       "      <td>1</td>\n",
       "      <td>1</td>\n",
       "    </tr>\n",
       "    <tr>\n",
       "      <th>404</th>\n",
       "      <td>1</td>\n",
       "      <td>1</td>\n",
       "    </tr>\n",
       "    <tr>\n",
       "      <th>99</th>\n",
       "      <td>0</td>\n",
       "      <td>1</td>\n",
       "    </tr>\n",
       "    <tr>\n",
       "      <th>84</th>\n",
       "      <td>1</td>\n",
       "      <td>1</td>\n",
       "    </tr>\n",
       "    <tr>\n",
       "      <th>...</th>\n",
       "      <td>...</td>\n",
       "      <td>...</td>\n",
       "    </tr>\n",
       "    <tr>\n",
       "      <th>45</th>\n",
       "      <td>1</td>\n",
       "      <td>1</td>\n",
       "    </tr>\n",
       "    <tr>\n",
       "      <th>373</th>\n",
       "      <td>1</td>\n",
       "      <td>1</td>\n",
       "    </tr>\n",
       "    <tr>\n",
       "      <th>4</th>\n",
       "      <td>1</td>\n",
       "      <td>1</td>\n",
       "    </tr>\n",
       "    <tr>\n",
       "      <th>401</th>\n",
       "      <td>1</td>\n",
       "      <td>1</td>\n",
       "    </tr>\n",
       "    <tr>\n",
       "      <th>287</th>\n",
       "      <td>1</td>\n",
       "      <td>1</td>\n",
       "    </tr>\n",
       "  </tbody>\n",
       "</table>\n",
       "<p>135 rows × 2 columns</p>\n",
       "</div>"
      ],
      "text/plain": [
       "     y_test_NB  y_pred_NB\n",
       "114          1          1\n",
       "182          1          1\n",
       "404          1          1\n",
       "99           0          1\n",
       "84           1          1\n",
       "..         ...        ...\n",
       "45           1          1\n",
       "373          1          1\n",
       "4            1          1\n",
       "401          1          1\n",
       "287          1          1\n",
       "\n",
       "[135 rows x 2 columns]"
      ]
     },
     "execution_count": 230,
     "metadata": {},
     "output_type": "execute_result"
    }
   ],
   "source": [
    "Only_spam_class_NB=y_test\n",
    "Only_spam_class_NB['y_pred_NB']=y_pred_NB\n",
    "Only_spam_class_NB.rename({'CLASS':'y_test_NB'},axis=1,inplace=True)\n",
    "Only_spam_class_NB"
   ]
  },
  {
   "cell_type": "code",
   "execution_count": 231,
   "metadata": {},
   "outputs": [
    {
     "name": "stdout",
     "output_type": "stream",
     "text": [
      "     y_test_NB  y_pred_NB\n",
      "114          1          1\n",
      "182          1          1\n",
      "404          1          1\n",
      "84           1          1\n",
      "342          1          1\n",
      "..         ...        ...\n",
      "45           1          1\n",
      "373          1          1\n",
      "4            1          1\n",
      "401          1          1\n",
      "287          1          1\n",
      "\n",
      "[70 rows x 2 columns]\n"
     ]
    }
   ],
   "source": [
    "Only_spam_class_1_NB=Only_spam_class_NB.loc[Only_spam_class_NB['y_test_NB'] == 1]\n",
    "print(Only_spam_class_1_NB)"
   ]
  },
  {
   "cell_type": "code",
   "execution_count": 232,
   "metadata": {
    "scrolled": true
   },
   "outputs": [
    {
     "name": "stdout",
     "output_type": "stream",
     "text": [
      "Spam caught: 0.9571428571428572\n"
     ]
    }
   ],
   "source": [
    "print(\"Spam caught:\", metrics.accuracy_score(Only_spam_class_1_NB['y_test_NB'],Only_spam_class_1_NB['y_pred_NB']))"
   ]
  },
  {
   "cell_type": "markdown",
   "metadata": {},
   "source": [
    "# USING LIME TO EXPLAIN"
   ]
  },
  {
   "cell_type": "code",
   "execution_count": null,
   "metadata": {},
   "outputs": [],
   "source": []
  },
  {
   "cell_type": "code",
   "execution_count": 233,
   "metadata": {
    "scrolled": false
   },
   "outputs": [
    {
     "name": "stdout",
     "output_type": "stream",
     "text": [
      "Collecting package metadata (current_repodata.json): done\n",
      "Solving environment: done\n",
      "\n",
      "## Package Plan ##\n",
      "\n",
      "  environment location: /Users/RobMullaney/opt/anaconda3\n",
      "\n",
      "  added / updated specs:\n",
      "    - lime\n",
      "\n",
      "\n",
      "The following packages will be UPDATED:\n",
      "\n",
      "  ca-certificates    anaconda::ca-certificates-2020.10.14-0 --> conda-forge::ca-certificates-2020.12.5-h033912b_0\n",
      "  certifi                anaconda::certifi-2020.6.20-py38_0 --> conda-forge::certifi-2020.12.5-py38h50d1736_1\n",
      "\n",
      "The following packages will be SUPERSEDED by a higher-priority channel:\n",
      "\n",
      "  conda              pkgs/main::conda-4.10.1-py38hecd8cb5_1 --> conda-forge::conda-4.10.1-py38h50d1736_0\n",
      "\n",
      "\n",
      "Preparing transaction: done\n",
      "Verifying transaction: done\n",
      "Executing transaction: done\n",
      "\n",
      "Note: you may need to restart the kernel to use updated packages.\n"
     ]
    }
   ],
   "source": [
    "conda install -c conda-forge lime"
   ]
  },
  {
   "cell_type": "code",
   "execution_count": 234,
   "metadata": {},
   "outputs": [],
   "source": [
    "\n",
    "from lime import lime_tabular\n",
    "from lime.discretize import QuartileDiscretizer, DecileDiscretizer, EntropyDiscretizer\n",
    "from lime.lime_tabular import LimeTabularExplainer\n",
    "from lime.lime_text import LimeTextExplainer\n",
    "from sklearn.pipeline import make_pipeline\n",
    "c = make_pipeline(vectorizer, nb)\n",
    "#explainer = lime_tabular.LimeTabularExplainer(\n",
    " #   training_data=np.array(X_train),\n",
    "  #  feature_names=eminem_chosencolumn['CONTENT'],\n",
    "    #class_names=['bad', 'good'],\n",
    "   # mode='classification'\n",
    "#)"
   ]
  },
  {
   "cell_type": "code",
   "execution_count": 235,
   "metadata": {},
   "outputs": [
    {
     "name": "stdout",
     "output_type": "stream",
     "text": [
      "[[0.00135431 0.99864569]]\n"
     ]
    }
   ],
   "source": [
    "print(c.predict_proba([eminem['CONTENT'][0]]))"
   ]
  },
  {
   "cell_type": "code",
   "execution_count": 236,
   "metadata": {},
   "outputs": [],
   "source": [
    "# 1 is SPAM, 0 is NOT SPAM\n",
    "class_names=[0,1]"
   ]
  },
  {
   "cell_type": "code",
   "execution_count": 237,
   "metadata": {},
   "outputs": [],
   "source": [
    "explainer = LimeTextExplainer(class_names=class_names)"
   ]
  },
  {
   "cell_type": "code",
   "execution_count": 245,
   "metadata": {},
   "outputs": [
    {
     "name": "stdout",
     "output_type": "stream",
     "text": [
      "Document id: 60\n",
      "Probability(1) = 0.097405060087939\n",
      "True class: 0\n"
     ]
    }
   ],
   "source": [
    "idx=60\n",
    "exp = explainer.explain_instance(eminem['CONTENT'][idx], c.predict_proba, num_features=10)\n",
    "print('Document id: %d' % idx)\n",
    "print('Probability(1) =', c.predict_proba([eminem['CONTENT'][idx]])[0, 1])\n",
    "print('True class: %s' % class_names[eminem['CLASS'][idx]])"
   ]
  },
  {
   "cell_type": "code",
   "execution_count": 246,
   "metadata": {},
   "outputs": [
    {
     "data": {
      "text/plain": [
       "[('LIE', -0.1666943289834867),\n",
       " ('LOVE', -0.1360409341502751),\n",
       " ('quot', 0.12484765522246347),\n",
       " ('WAY', -0.0995293381700881),\n",
       " ('THE', -0.033282444621124424),\n",
       " ('YOU', 0.011260034080494037)]"
      ]
     },
     "execution_count": 246,
     "metadata": {},
     "output_type": "execute_result"
    }
   ],
   "source": [
    "exp.as_list()"
   ]
  },
  {
   "cell_type": "code",
   "execution_count": 247,
   "metadata": {},
   "outputs": [
    {
     "data": {
      "image/png": "[encoded data removed]",
      "text/plain": [
       "<Figure size 432x288 with 1 Axes>"
      ]
     },
     "metadata": {
      "needs_background": "light"
     },
     "output_type": "display_data"
    }
   ],
   "source": [
    "%matplotlib inline\n",
    "fig = exp.as_pyplot_figure()"
   ]
  },
  {
   "cell_type": "code",
   "execution_count": null,
   "metadata": {},
   "outputs": [],
   "source": []
  },
  {
   "cell_type": "code",
   "execution_count": null,
   "metadata": {},
   "outputs": [],
   "source": []
  },
  {
   "cell_type": "code",
   "execution_count": null,
   "metadata": {},
   "outputs": [],
   "source": []
  },
  {
   "cell_type": "code",
   "execution_count": null,
   "metadata": {},
   "outputs": [],
   "source": []
  },
  {
   "cell_type": "code",
   "execution_count": null,
   "metadata": {},
   "outputs": [],
   "source": []
  }
 ],
 "metadata": {
  "kernelspec": {
   "display_name": "Python 3",
   "language": "python",
   "name": "python3"
  },
  "language_info": {
   "codemirror_mode": {
    "name": "ipython",
    "version": 3
   },
   "file_extension": ".py",
   "mimetype": "text/x-python",
   "name": "python",
   "nbconvert_exporter": "python",
   "pygments_lexer": "ipython3",
   "version": "3.8.5"
  },
  "toc": {
   "base_numbering": 1,
   "nav_menu": {},
   "number_sections": true,
   "sideBar": true,
   "skip_h1_title": false,
   "title_cell": "Table of Contents",
   "title_sidebar": "Contents",
   "toc_cell": false,
   "toc_position": {},
   "toc_section_display": true,
   "toc_window_display": false
  }
 },
 "nbformat": 4,
 "nbformat_minor": 4
}
